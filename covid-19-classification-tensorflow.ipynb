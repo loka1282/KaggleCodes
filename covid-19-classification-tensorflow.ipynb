{
 "cells": [
  {
   "cell_type": "code",
   "execution_count": 1,
   "id": "3d29733c",
   "metadata": {
    "execution": {
     "iopub.execute_input": "2022-10-30T08:49:25.009911Z",
     "iopub.status.busy": "2022-10-30T08:49:25.009382Z",
     "iopub.status.idle": "2022-10-30T08:49:30.406178Z",
     "shell.execute_reply": "2022-10-30T08:49:30.405010Z"
    },
    "papermill": {
     "duration": 5.404472,
     "end_time": "2022-10-30T08:49:30.408888",
     "exception": false,
     "start_time": "2022-10-30T08:49:25.004416",
     "status": "completed"
    },
    "tags": []
   },
   "outputs": [],
   "source": [
    "import tensorflow as tf\n",
    "from tensorflow.keras.preprocessing.text import Tokenizer\n",
    "from tensorflow.keras.preprocessing.sequence import pad_sequences\n",
    "import pandas as pd\n",
    "import numpy as np"
   ]
  },
  {
   "cell_type": "code",
   "execution_count": 2,
   "id": "3a4cfbc3",
   "metadata": {
    "execution": {
     "iopub.execute_input": "2022-10-30T08:49:30.417301Z",
     "iopub.status.busy": "2022-10-30T08:49:30.416022Z",
     "iopub.status.idle": "2022-10-30T08:49:30.735006Z",
     "shell.execute_reply": "2022-10-30T08:49:30.734021Z"
    },
    "papermill": {
     "duration": 0.325349,
     "end_time": "2022-10-30T08:49:30.737355",
     "exception": false,
     "start_time": "2022-10-30T08:49:30.412006",
     "status": "completed"
    },
    "tags": []
   },
   "outputs": [],
   "source": [
    "train = pd.read_csv('../input/covid-19-nlp-text-classification/Corona_NLP_train.csv', encoding='latin-1')\n",
    "test = pd.read_csv('../input/covid-19-nlp-text-classification/Corona_NLP_test.csv', encoding='latin-1')\n",
    "data=pd.concat([train,test],axis=0)\n",
    "data=data.dropna()"
   ]
  },
  {
   "cell_type": "code",
   "execution_count": 3,
   "id": "70204195",
   "metadata": {
    "execution": {
     "iopub.execute_input": "2022-10-30T08:49:30.743911Z",
     "iopub.status.busy": "2022-10-30T08:49:30.743602Z",
     "iopub.status.idle": "2022-10-30T08:49:30.786023Z",
     "shell.execute_reply": "2022-10-30T08:49:30.785103Z"
    },
    "papermill": {
     "duration": 0.048039,
     "end_time": "2022-10-30T08:49:30.788182",
     "exception": false,
     "start_time": "2022-10-30T08:49:30.740143",
     "status": "completed"
    },
    "tags": []
   },
   "outputs": [],
   "source": [
    "data = data.replace({'Extremely Positive':0,'Positive':1,'Neutral':2,'Negative':3, 'Extremely Negative':4})"
   ]
  },
  {
   "cell_type": "code",
   "execution_count": 4,
   "id": "758b62da",
   "metadata": {
    "execution": {
     "iopub.execute_input": "2022-10-30T08:49:30.794573Z",
     "iopub.status.busy": "2022-10-30T08:49:30.794294Z",
     "iopub.status.idle": "2022-10-30T08:49:30.805940Z",
     "shell.execute_reply": "2022-10-30T08:49:30.804932Z"
    },
    "papermill": {
     "duration": 0.018029,
     "end_time": "2022-10-30T08:49:30.808903",
     "exception": false,
     "start_time": "2022-10-30T08:49:30.790874",
     "status": "completed"
    },
    "tags": []
   },
   "outputs": [
    {
     "data": {
      "text/plain": [
       "((35531,), (35531,))"
      ]
     },
     "execution_count": 4,
     "metadata": {},
     "output_type": "execute_result"
    }
   ],
   "source": [
    "sentences = data['OriginalTweet']\n",
    "labels = data['Sentiment']\n",
    "sentences = np.array(sentences)\n",
    "labels = np.array(labels)\n",
    "sentences.shape,labels.shape"
   ]
  },
  {
   "cell_type": "code",
   "execution_count": 5,
   "id": "808005c6",
   "metadata": {
    "execution": {
     "iopub.execute_input": "2022-10-30T08:49:30.815339Z",
     "iopub.status.busy": "2022-10-30T08:49:30.815071Z",
     "iopub.status.idle": "2022-10-30T08:49:30.819406Z",
     "shell.execute_reply": "2022-10-30T08:49:30.818509Z"
    },
    "papermill": {
     "duration": 0.009718,
     "end_time": "2022-10-30T08:49:30.821396",
     "exception": false,
     "start_time": "2022-10-30T08:49:30.811678",
     "status": "completed"
    },
    "tags": []
   },
   "outputs": [],
   "source": [
    "training_sentences = sentences[0:901]\n",
    "testing_sentences = sentences[901:]\n",
    "training_labels = labels[0:901]\n",
    "testing_labels = labels[901:]"
   ]
  },
  {
   "cell_type": "code",
   "execution_count": 6,
   "id": "ad1b89c9",
   "metadata": {
    "execution": {
     "iopub.execute_input": "2022-10-30T08:49:30.828238Z",
     "iopub.status.busy": "2022-10-30T08:49:30.827347Z",
     "iopub.status.idle": "2022-10-30T08:49:32.048220Z",
     "shell.execute_reply": "2022-10-30T08:49:32.047213Z"
    },
    "papermill": {
     "duration": 1.226969,
     "end_time": "2022-10-30T08:49:32.050899",
     "exception": false,
     "start_time": "2022-10-30T08:49:30.823930",
     "status": "completed"
    },
    "tags": []
   },
   "outputs": [],
   "source": [
    "tokenizer = Tokenizer(num_words=10000, oov_token=\"<OOV>\")\n",
    "tokenizer.fit_on_texts(training_sentences)\n",
    "\n",
    "word_index = tokenizer.word_index\n",
    "\n",
    "training_sequences = tokenizer.texts_to_sequences(training_sentences)\n",
    "training_padded = pad_sequences(training_sequences, maxlen=200, padding='post', truncating='post')\n",
    "\n",
    "testing_sequences = tokenizer.texts_to_sequences(testing_sentences)\n",
    "testing_padded = pad_sequences(testing_sequences, maxlen=200, padding='post', truncating='post')"
   ]
  },
  {
   "cell_type": "code",
   "execution_count": 7,
   "id": "0ec7d294",
   "metadata": {
    "execution": {
     "iopub.execute_input": "2022-10-30T08:49:32.057760Z",
     "iopub.status.busy": "2022-10-30T08:49:32.057440Z",
     "iopub.status.idle": "2022-10-30T08:49:32.072758Z",
     "shell.execute_reply": "2022-10-30T08:49:32.072012Z"
    },
    "papermill": {
     "duration": 0.021283,
     "end_time": "2022-10-30T08:49:32.075078",
     "exception": false,
     "start_time": "2022-10-30T08:49:32.053795",
     "status": "completed"
    },
    "tags": []
   },
   "outputs": [],
   "source": [
    "training_padded = np.array(training_padded)\n",
    "training_labels = np.array(training_labels)\n",
    "testing_padded = np.array(testing_padded)\n",
    "testing_labels = np.array(testing_labels)"
   ]
  },
  {
   "cell_type": "code",
   "execution_count": 8,
   "id": "09c9b925",
   "metadata": {
    "execution": {
     "iopub.execute_input": "2022-10-30T08:49:32.081602Z",
     "iopub.status.busy": "2022-10-30T08:49:32.081338Z",
     "iopub.status.idle": "2022-10-30T08:49:35.039796Z",
     "shell.execute_reply": "2022-10-30T08:49:35.038380Z"
    },
    "papermill": {
     "duration": 2.965388,
     "end_time": "2022-10-30T08:49:35.043081",
     "exception": false,
     "start_time": "2022-10-30T08:49:32.077693",
     "status": "completed"
    },
    "tags": []
   },
   "outputs": [
    {
     "name": "stderr",
     "output_type": "stream",
     "text": [
      "2022-10-30 08:49:32.167915: I tensorflow/stream_executor/cuda/cuda_gpu_executor.cc:937] successful NUMA node read from SysFS had negative value (-1), but there must be at least one NUMA node, so returning NUMA node zero\n",
      "2022-10-30 08:49:32.263476: I tensorflow/stream_executor/cuda/cuda_gpu_executor.cc:937] successful NUMA node read from SysFS had negative value (-1), but there must be at least one NUMA node, so returning NUMA node zero\n",
      "2022-10-30 08:49:32.264287: I tensorflow/stream_executor/cuda/cuda_gpu_executor.cc:937] successful NUMA node read from SysFS had negative value (-1), but there must be at least one NUMA node, so returning NUMA node zero\n",
      "2022-10-30 08:49:32.265837: I tensorflow/core/platform/cpu_feature_guard.cc:142] This TensorFlow binary is optimized with oneAPI Deep Neural Network Library (oneDNN) to use the following CPU instructions in performance-critical operations:  AVX2 AVX512F FMA\n",
      "To enable them in other operations, rebuild TensorFlow with the appropriate compiler flags.\n",
      "2022-10-30 08:49:32.272765: I tensorflow/stream_executor/cuda/cuda_gpu_executor.cc:937] successful NUMA node read from SysFS had negative value (-1), but there must be at least one NUMA node, so returning NUMA node zero\n",
      "2022-10-30 08:49:32.273439: I tensorflow/stream_executor/cuda/cuda_gpu_executor.cc:937] successful NUMA node read from SysFS had negative value (-1), but there must be at least one NUMA node, so returning NUMA node zero\n",
      "2022-10-30 08:49:32.274112: I tensorflow/stream_executor/cuda/cuda_gpu_executor.cc:937] successful NUMA node read from SysFS had negative value (-1), but there must be at least one NUMA node, so returning NUMA node zero\n",
      "2022-10-30 08:49:34.595967: I tensorflow/stream_executor/cuda/cuda_gpu_executor.cc:937] successful NUMA node read from SysFS had negative value (-1), but there must be at least one NUMA node, so returning NUMA node zero\n",
      "2022-10-30 08:49:34.596880: I tensorflow/stream_executor/cuda/cuda_gpu_executor.cc:937] successful NUMA node read from SysFS had negative value (-1), but there must be at least one NUMA node, so returning NUMA node zero\n",
      "2022-10-30 08:49:34.597554: I tensorflow/stream_executor/cuda/cuda_gpu_executor.cc:937] successful NUMA node read from SysFS had negative value (-1), but there must be at least one NUMA node, so returning NUMA node zero\n",
      "2022-10-30 08:49:34.598170: I tensorflow/core/common_runtime/gpu/gpu_device.cc:1510] Created device /job:localhost/replica:0/task:0/device:GPU:0 with 15401 MB memory:  -> device: 0, name: Tesla P100-PCIE-16GB, pci bus id: 0000:00:04.0, compute capability: 6.0\n"
     ]
    },
    {
     "name": "stdout",
     "output_type": "stream",
     "text": [
      "Model: \"sequential\"\n",
      "_________________________________________________________________\n",
      "Layer (type)                 Output Shape              Param #   \n",
      "=================================================================\n",
      "embedding (Embedding)        (None, 200, 16)           160000    \n",
      "_________________________________________________________________\n",
      "global_average_pooling1d (Gl (None, 16)                0         \n",
      "_________________________________________________________________\n",
      "flatten (Flatten)            (None, 16)                0         \n",
      "_________________________________________________________________\n",
      "dense (Dense)                (None, 50)                850       \n",
      "_________________________________________________________________\n",
      "dense_1 (Dense)              (None, 25)                1275      \n",
      "_________________________________________________________________\n",
      "dense_2 (Dense)              (None, 4)                 104       \n",
      "=================================================================\n",
      "Total params: 162,229\n",
      "Trainable params: 162,229\n",
      "Non-trainable params: 0\n",
      "_________________________________________________________________\n"
     ]
    }
   ],
   "source": [
    "\n",
    "\n",
    "model = tf.keras.Sequential()\n",
    "model.add(tf.keras.layers.Embedding(10000,16,input_length=200))\n",
    "model.add(tf.keras.layers.GlobalAveragePooling1D())\n",
    "model.add(tf.keras.layers.Flatten())\n",
    "model.add(tf.keras.layers.Dense(50,activation='relu'))\n",
    "model.add(tf.keras.layers.Dense(25,activation='relu'))\n",
    "model.add(tf.keras.layers.Dense(4,activation='softmax'))\n",
    "opt = tf.keras.optimizers.Adam()\n",
    "model.compile(loss='sparse_categorical_crossentropy',optimizer=opt,metrics=['accuracy'])\n",
    "model.summary()\n"
   ]
  },
  {
   "cell_type": "code",
   "execution_count": 9,
   "id": "71ab8fa8",
   "metadata": {
    "execution": {
     "iopub.execute_input": "2022-10-30T08:49:35.055707Z",
     "iopub.status.busy": "2022-10-30T08:49:35.055405Z",
     "iopub.status.idle": "2022-10-30T08:50:12.001106Z",
     "shell.execute_reply": "2022-10-30T08:50:12.000188Z"
    },
    "papermill": {
     "duration": 36.952228,
     "end_time": "2022-10-30T08:50:12.003320",
     "exception": false,
     "start_time": "2022-10-30T08:49:35.051092",
     "status": "completed"
    },
    "tags": []
   },
   "outputs": [
    {
     "name": "stdout",
     "output_type": "stream",
     "text": [
      "Epoch 1/20\n"
     ]
    },
    {
     "name": "stderr",
     "output_type": "stream",
     "text": [
      "2022-10-30 08:49:35.116062: I tensorflow/compiler/mlir/mlir_graph_optimization_pass.cc:185] None of the MLIR Optimization Passes are enabled (registered 2)\n"
     ]
    },
    {
     "name": "stdout",
     "output_type": "stream",
     "text": [
      "29/29 - 3s - loss: nan - accuracy: 0.1443 - val_loss: nan - val_accuracy: 0.1624\n",
      "Epoch 2/20\n",
      "29/29 - 1s - loss: nan - accuracy: 0.1443 - val_loss: nan - val_accuracy: 0.1624\n",
      "Epoch 3/20\n",
      "29/29 - 3s - loss: nan - accuracy: 0.1443 - val_loss: nan - val_accuracy: 0.1624\n",
      "Epoch 4/20\n",
      "29/29 - 1s - loss: nan - accuracy: 0.1443 - val_loss: nan - val_accuracy: 0.1624\n",
      "Epoch 5/20\n",
      "29/29 - 3s - loss: nan - accuracy: 0.1443 - val_loss: nan - val_accuracy: 0.1624\n",
      "Epoch 6/20\n",
      "29/29 - 1s - loss: nan - accuracy: 0.1443 - val_loss: nan - val_accuracy: 0.1624\n",
      "Epoch 7/20\n",
      "29/29 - 3s - loss: nan - accuracy: 0.1443 - val_loss: nan - val_accuracy: 0.1624\n",
      "Epoch 8/20\n",
      "29/29 - 1s - loss: nan - accuracy: 0.1443 - val_loss: nan - val_accuracy: 0.1624\n",
      "Epoch 9/20\n",
      "29/29 - 1s - loss: nan - accuracy: 0.1443 - val_loss: nan - val_accuracy: 0.1624\n",
      "Epoch 10/20\n",
      "29/29 - 1s - loss: nan - accuracy: 0.1443 - val_loss: nan - val_accuracy: 0.1624\n",
      "Epoch 11/20\n",
      "29/29 - 1s - loss: nan - accuracy: 0.1443 - val_loss: nan - val_accuracy: 0.1624\n",
      "Epoch 12/20\n",
      "29/29 - 3s - loss: nan - accuracy: 0.1443 - val_loss: nan - val_accuracy: 0.1624\n",
      "Epoch 13/20\n",
      "29/29 - 3s - loss: nan - accuracy: 0.1443 - val_loss: nan - val_accuracy: 0.1624\n",
      "Epoch 14/20\n",
      "29/29 - 1s - loss: nan - accuracy: 0.1443 - val_loss: nan - val_accuracy: 0.1624\n",
      "Epoch 15/20\n",
      "29/29 - 1s - loss: nan - accuracy: 0.1443 - val_loss: nan - val_accuracy: 0.1624\n",
      "Epoch 16/20\n",
      "29/29 - 2s - loss: nan - accuracy: 0.1443 - val_loss: nan - val_accuracy: 0.1624\n",
      "Epoch 17/20\n",
      "29/29 - 1s - loss: nan - accuracy: 0.1443 - val_loss: nan - val_accuracy: 0.1624\n",
      "Epoch 18/20\n",
      "29/29 - 1s - loss: nan - accuracy: 0.1443 - val_loss: nan - val_accuracy: 0.1624\n",
      "Epoch 19/20\n",
      "29/29 - 1s - loss: nan - accuracy: 0.1443 - val_loss: nan - val_accuracy: 0.1624\n",
      "Epoch 20/20\n",
      "29/29 - 2s - loss: nan - accuracy: 0.1443 - val_loss: nan - val_accuracy: 0.1624\n"
     ]
    }
   ],
   "source": [
    "num_epochs = 20\n",
    "history = model.fit(training_padded, training_labels, epochs=num_epochs, validation_data=(testing_padded, testing_labels), verbose=2)"
   ]
  },
  {
   "cell_type": "code",
   "execution_count": null,
   "id": "28bcb932",
   "metadata": {
    "papermill": {
     "duration": 0.005438,
     "end_time": "2022-10-30T08:50:12.013930",
     "exception": false,
     "start_time": "2022-10-30T08:50:12.008492",
     "status": "completed"
    },
    "tags": []
   },
   "outputs": [],
   "source": []
  }
 ],
 "metadata": {
  "kernelspec": {
   "display_name": "Python 3",
   "language": "python",
   "name": "python3"
  },
  "language_info": {
   "codemirror_mode": {
    "name": "ipython",
    "version": 3
   },
   "file_extension": ".py",
   "mimetype": "text/x-python",
   "name": "python",
   "nbconvert_exporter": "python",
   "pygments_lexer": "ipython3",
   "version": "3.7.12"
  },
  "papermill": {
   "default_parameters": {},
   "duration": 58.347798,
   "end_time": "2022-10-30T08:50:15.556592",
   "environment_variables": {},
   "exception": null,
   "input_path": "__notebook__.ipynb",
   "output_path": "__notebook__.ipynb",
   "parameters": {},
   "start_time": "2022-10-30T08:49:17.208794",
   "version": "2.3.4"
  }
 },
 "nbformat": 4,
 "nbformat_minor": 5
}
