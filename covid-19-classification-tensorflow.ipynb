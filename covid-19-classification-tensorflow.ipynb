{
 "cells": [
  {
   "cell_type": "code",
   "execution_count": 1,
   "id": "3d6f1315",
   "metadata": {
    "execution": {
     "iopub.execute_input": "2022-10-30T08:42:50.272605Z",
     "iopub.status.busy": "2022-10-30T08:42:50.272061Z",
     "iopub.status.idle": "2022-10-30T08:42:55.897518Z",
     "shell.execute_reply": "2022-10-30T08:42:55.896530Z"
    },
    "papermill": {
     "duration": 5.635547,
     "end_time": "2022-10-30T08:42:55.900286",
     "exception": false,
     "start_time": "2022-10-30T08:42:50.264739",
     "status": "completed"
    },
    "tags": []
   },
   "outputs": [],
   "source": [
    "import tensorflow as tf\n",
    "from tensorflow.keras.preprocessing.text import Tokenizer\n",
    "from tensorflow.keras.preprocessing.sequence import pad_sequences\n",
    "import pandas as pd\n",
    "import numpy as np"
   ]
  },
  {
   "cell_type": "code",
   "execution_count": 2,
   "id": "e4ef0ae4",
   "metadata": {
    "execution": {
     "iopub.execute_input": "2022-10-30T08:42:55.909032Z",
     "iopub.status.busy": "2022-10-30T08:42:55.908080Z",
     "iopub.status.idle": "2022-10-30T08:42:56.225400Z",
     "shell.execute_reply": "2022-10-30T08:42:56.224342Z"
    },
    "papermill": {
     "duration": 0.324657,
     "end_time": "2022-10-30T08:42:56.228241",
     "exception": false,
     "start_time": "2022-10-30T08:42:55.903584",
     "status": "completed"
    },
    "tags": []
   },
   "outputs": [],
   "source": [
    "train = pd.read_csv('../input/covid-19-nlp-text-classification/Corona_NLP_train.csv', encoding='latin-1')\n",
    "test = pd.read_csv('../input/covid-19-nlp-text-classification/Corona_NLP_test.csv', encoding='latin-1')\n",
    "data=pd.concat([train,test],axis=0)\n",
    "data=data.dropna()"
   ]
  },
  {
   "cell_type": "code",
   "execution_count": 3,
   "id": "06adcd7f",
   "metadata": {
    "execution": {
     "iopub.execute_input": "2022-10-30T08:42:56.235285Z",
     "iopub.status.busy": "2022-10-30T08:42:56.234703Z",
     "iopub.status.idle": "2022-10-30T08:42:56.275768Z",
     "shell.execute_reply": "2022-10-30T08:42:56.274796Z"
    },
    "papermill": {
     "duration": 0.047666,
     "end_time": "2022-10-30T08:42:56.278793",
     "exception": false,
     "start_time": "2022-10-30T08:42:56.231127",
     "status": "completed"
    },
    "tags": []
   },
   "outputs": [],
   "source": [
    "data = data.replace({'Extremely Positive':0,'Positive':1,'Neutral':2,'Negative':3, 'Extremely Negative':4})"
   ]
  },
  {
   "cell_type": "code",
   "execution_count": 4,
   "id": "cd5ec4a0",
   "metadata": {
    "execution": {
     "iopub.execute_input": "2022-10-30T08:42:56.285943Z",
     "iopub.status.busy": "2022-10-30T08:42:56.285112Z",
     "iopub.status.idle": "2022-10-30T08:42:56.297190Z",
     "shell.execute_reply": "2022-10-30T08:42:56.296221Z"
    },
    "papermill": {
     "duration": 0.017691,
     "end_time": "2022-10-30T08:42:56.299302",
     "exception": false,
     "start_time": "2022-10-30T08:42:56.281611",
     "status": "completed"
    },
    "tags": []
   },
   "outputs": [
    {
     "data": {
      "text/plain": [
       "((35531,), (35531,))"
      ]
     },
     "execution_count": 4,
     "metadata": {},
     "output_type": "execute_result"
    }
   ],
   "source": [
    "sentences = data['OriginalTweet']\n",
    "labels = data['Sentiment']\n",
    "sentences = np.array(sentences)\n",
    "labels = np.array(labels)\n",
    "sentences.shape,labels.shape"
   ]
  },
  {
   "cell_type": "code",
   "execution_count": 5,
   "id": "50e51265",
   "metadata": {
    "execution": {
     "iopub.execute_input": "2022-10-30T08:42:56.306131Z",
     "iopub.status.busy": "2022-10-30T08:42:56.305808Z",
     "iopub.status.idle": "2022-10-30T08:42:56.310604Z",
     "shell.execute_reply": "2022-10-30T08:42:56.309572Z"
    },
    "papermill": {
     "duration": 0.011039,
     "end_time": "2022-10-30T08:42:56.313197",
     "exception": false,
     "start_time": "2022-10-30T08:42:56.302158",
     "status": "completed"
    },
    "tags": []
   },
   "outputs": [],
   "source": [
    "training_sentences = sentences[0:901]\n",
    "testing_sentences = sentences[901:]\n",
    "training_labels = labels[0:901]\n",
    "testing_labels = labels[901:]"
   ]
  },
  {
   "cell_type": "code",
   "execution_count": 6,
   "id": "e90fdf83",
   "metadata": {
    "execution": {
     "iopub.execute_input": "2022-10-30T08:42:56.321197Z",
     "iopub.status.busy": "2022-10-30T08:42:56.319655Z",
     "iopub.status.idle": "2022-10-30T08:42:57.574524Z",
     "shell.execute_reply": "2022-10-30T08:42:57.573444Z"
    },
    "papermill": {
     "duration": 1.261079,
     "end_time": "2022-10-30T08:42:57.577199",
     "exception": false,
     "start_time": "2022-10-30T08:42:56.316120",
     "status": "completed"
    },
    "tags": []
   },
   "outputs": [],
   "source": [
    "tokenizer = Tokenizer(num_words=10000, oov_token=\"<OOV>\")\n",
    "tokenizer.fit_on_texts(training_sentences)\n",
    "\n",
    "word_index = tokenizer.word_index\n",
    "\n",
    "training_sequences = tokenizer.texts_to_sequences(training_sentences)\n",
    "training_padded = pad_sequences(training_sequences, maxlen=200, padding='post', truncating='post')\n",
    "\n",
    "testing_sequences = tokenizer.texts_to_sequences(testing_sentences)\n",
    "testing_padded = pad_sequences(testing_sequences, maxlen=200, padding='post', truncating='post')"
   ]
  },
  {
   "cell_type": "code",
   "execution_count": 7,
   "id": "dde745c6",
   "metadata": {
    "execution": {
     "iopub.execute_input": "2022-10-30T08:42:57.585312Z",
     "iopub.status.busy": "2022-10-30T08:42:57.584192Z",
     "iopub.status.idle": "2022-10-30T08:42:57.600968Z",
     "shell.execute_reply": "2022-10-30T08:42:57.600014Z"
    },
    "papermill": {
     "duration": 0.023101,
     "end_time": "2022-10-30T08:42:57.603374",
     "exception": false,
     "start_time": "2022-10-30T08:42:57.580273",
     "status": "completed"
    },
    "tags": []
   },
   "outputs": [],
   "source": [
    "training_padded = np.array(training_padded)\n",
    "training_labels = np.array(training_labels)\n",
    "testing_padded = np.array(testing_padded)\n",
    "testing_labels = np.array(testing_labels)"
   ]
  },
  {
   "cell_type": "code",
   "execution_count": 8,
   "id": "d3785b88",
   "metadata": {
    "execution": {
     "iopub.execute_input": "2022-10-30T08:42:57.610511Z",
     "iopub.status.busy": "2022-10-30T08:42:57.610196Z",
     "iopub.status.idle": "2022-10-30T08:43:00.264681Z",
     "shell.execute_reply": "2022-10-30T08:43:00.263728Z"
    },
    "papermill": {
     "duration": 2.661472,
     "end_time": "2022-10-30T08:43:00.267897",
     "exception": false,
     "start_time": "2022-10-30T08:42:57.606425",
     "status": "completed"
    },
    "tags": []
   },
   "outputs": [
    {
     "name": "stderr",
     "output_type": "stream",
     "text": [
      "2022-10-30 08:42:57.697699: I tensorflow/stream_executor/cuda/cuda_gpu_executor.cc:937] successful NUMA node read from SysFS had negative value (-1), but there must be at least one NUMA node, so returning NUMA node zero\n",
      "2022-10-30 08:42:57.791440: I tensorflow/stream_executor/cuda/cuda_gpu_executor.cc:937] successful NUMA node read from SysFS had negative value (-1), but there must be at least one NUMA node, so returning NUMA node zero\n",
      "2022-10-30 08:42:57.792227: I tensorflow/stream_executor/cuda/cuda_gpu_executor.cc:937] successful NUMA node read from SysFS had negative value (-1), but there must be at least one NUMA node, so returning NUMA node zero\n"
     ]
    },
    {
     "name": "stdout",
     "output_type": "stream",
     "text": [
      "Model: \"sequential\"\n",
      "_________________________________________________________________\n",
      "Layer (type)                 Output Shape              Param #   \n",
      "=================================================================\n",
      "embedding (Embedding)        (None, 200, 16)           160000    \n",
      "_________________________________________________________________\n",
      "global_average_pooling1d (Gl (None, 16)                0         \n",
      "_________________________________________________________________\n",
      "flatten (Flatten)            (None, 16)                0         \n",
      "_________________________________________________________________\n",
      "dense (Dense)                (None, 50)                850       \n",
      "_________________________________________________________________\n",
      "dense_1 (Dense)              (None, 25)                1275      \n",
      "_________________________________________________________________\n",
      "dense_2 (Dense)              (None, 4)                 104       \n",
      "=================================================================\n",
      "Total params: 162,229\n",
      "Trainable params: 162,229\n",
      "Non-trainable params: 0\n",
      "_________________________________________________________________\n"
     ]
    },
    {
     "name": "stderr",
     "output_type": "stream",
     "text": [
      "2022-10-30 08:42:57.793873: I tensorflow/core/platform/cpu_feature_guard.cc:142] This TensorFlow binary is optimized with oneAPI Deep Neural Network Library (oneDNN) to use the following CPU instructions in performance-critical operations:  AVX2 AVX512F FMA\n",
      "To enable them in other operations, rebuild TensorFlow with the appropriate compiler flags.\n",
      "2022-10-30 08:42:57.800271: I tensorflow/stream_executor/cuda/cuda_gpu_executor.cc:937] successful NUMA node read from SysFS had negative value (-1), but there must be at least one NUMA node, so returning NUMA node zero\n",
      "2022-10-30 08:42:57.800957: I tensorflow/stream_executor/cuda/cuda_gpu_executor.cc:937] successful NUMA node read from SysFS had negative value (-1), but there must be at least one NUMA node, so returning NUMA node zero\n",
      "2022-10-30 08:42:57.801666: I tensorflow/stream_executor/cuda/cuda_gpu_executor.cc:937] successful NUMA node read from SysFS had negative value (-1), but there must be at least one NUMA node, so returning NUMA node zero\n",
      "2022-10-30 08:42:59.828245: I tensorflow/stream_executor/cuda/cuda_gpu_executor.cc:937] successful NUMA node read from SysFS had negative value (-1), but there must be at least one NUMA node, so returning NUMA node zero\n",
      "2022-10-30 08:42:59.829050: I tensorflow/stream_executor/cuda/cuda_gpu_executor.cc:937] successful NUMA node read from SysFS had negative value (-1), but there must be at least one NUMA node, so returning NUMA node zero\n",
      "2022-10-30 08:42:59.829752: I tensorflow/stream_executor/cuda/cuda_gpu_executor.cc:937] successful NUMA node read from SysFS had negative value (-1), but there must be at least one NUMA node, so returning NUMA node zero\n",
      "2022-10-30 08:42:59.830364: I tensorflow/core/common_runtime/gpu/gpu_device.cc:1510] Created device /job:localhost/replica:0/task:0/device:GPU:0 with 15401 MB memory:  -> device: 0, name: Tesla P100-PCIE-16GB, pci bus id: 0000:00:04.0, compute capability: 6.0\n"
     ]
    }
   ],
   "source": [
    "\n",
    "\n",
    "model = tf.keras.Sequential()\n",
    "model.add(tf.keras.layers.Embedding(10000,16,input_length=200))\n",
    "model.add(tf.keras.layers.GlobalAveragePooling1D())\n",
    "model.add(tf.keras.layers.Flatten())\n",
    "model.add(tf.keras.layers.Dense(50,activation='relu'))\n",
    "model.add(tf.keras.layers.Dense(25,activation='relu'))\n",
    "model.add(tf.keras.layers.Dense(4,activation='softmax'))\n",
    "opt = tf.keras.optimizers.Adam()\n",
    "model.compile(loss='sparse_categorical_crossentropy',optimizer=opt,metrics=['accuracy'])\n",
    "model.summary()\n"
   ]
  },
  {
   "cell_type": "code",
   "execution_count": 9,
   "id": "e62fd6df",
   "metadata": {
    "execution": {
     "iopub.execute_input": "2022-10-30T08:43:00.275472Z",
     "iopub.status.busy": "2022-10-30T08:43:00.274651Z",
     "iopub.status.idle": "2022-10-30T08:46:15.197124Z",
     "shell.execute_reply": "2022-10-30T08:46:15.196158Z"
    },
    "papermill": {
     "duration": 194.92849,
     "end_time": "2022-10-30T08:46:15.199355",
     "exception": false,
     "start_time": "2022-10-30T08:43:00.270865",
     "status": "completed"
    },
    "tags": []
   },
   "outputs": [
    {
     "name": "stderr",
     "output_type": "stream",
     "text": [
      "2022-10-30 08:43:00.340152: I tensorflow/compiler/mlir/mlir_graph_optimization_pass.cc:185] None of the MLIR Optimization Passes are enabled (registered 2)\n"
     ]
    },
    {
     "name": "stdout",
     "output_type": "stream",
     "text": [
      "Epoch 1/100\n",
      "29/29 - 3s - loss: nan - accuracy: 0.1454 - val_loss: nan - val_accuracy: 0.1624\n",
      "Epoch 2/100\n",
      "29/29 - 1s - loss: nan - accuracy: 0.1443 - val_loss: nan - val_accuracy: 0.1624\n",
      "Epoch 3/100\n",
      "29/29 - 1s - loss: nan - accuracy: 0.1443 - val_loss: nan - val_accuracy: 0.1624\n",
      "Epoch 4/100\n",
      "29/29 - 3s - loss: nan - accuracy: 0.1443 - val_loss: nan - val_accuracy: 0.1624\n",
      "Epoch 5/100\n",
      "29/29 - 1s - loss: nan - accuracy: 0.1443 - val_loss: nan - val_accuracy: 0.1624\n",
      "Epoch 6/100\n",
      "29/29 - 3s - loss: nan - accuracy: 0.1443 - val_loss: nan - val_accuracy: 0.1624\n",
      "Epoch 7/100\n",
      "29/29 - 2s - loss: nan - accuracy: 0.1443 - val_loss: nan - val_accuracy: 0.1624\n",
      "Epoch 8/100\n",
      "29/29 - 3s - loss: nan - accuracy: 0.1443 - val_loss: nan - val_accuracy: 0.1624\n",
      "Epoch 9/100\n",
      "29/29 - 1s - loss: nan - accuracy: 0.1443 - val_loss: nan - val_accuracy: 0.1624\n",
      "Epoch 10/100\n",
      "29/29 - 1s - loss: nan - accuracy: 0.1443 - val_loss: nan - val_accuracy: 0.1624\n",
      "Epoch 11/100\n",
      "29/29 - 1s - loss: nan - accuracy: 0.1443 - val_loss: nan - val_accuracy: 0.1624\n",
      "Epoch 12/100\n",
      "29/29 - 2s - loss: nan - accuracy: 0.1443 - val_loss: nan - val_accuracy: 0.1624\n",
      "Epoch 13/100\n",
      "29/29 - 2s - loss: nan - accuracy: 0.1443 - val_loss: nan - val_accuracy: 0.1624\n",
      "Epoch 14/100\n",
      "29/29 - 2s - loss: nan - accuracy: 0.1443 - val_loss: nan - val_accuracy: 0.1624\n",
      "Epoch 15/100\n",
      "29/29 - 3s - loss: nan - accuracy: 0.1443 - val_loss: nan - val_accuracy: 0.1624\n",
      "Epoch 16/100\n",
      "29/29 - 3s - loss: nan - accuracy: 0.1443 - val_loss: nan - val_accuracy: 0.1624\n",
      "Epoch 17/100\n",
      "29/29 - 3s - loss: nan - accuracy: 0.1443 - val_loss: nan - val_accuracy: 0.1624\n",
      "Epoch 18/100\n",
      "29/29 - 3s - loss: nan - accuracy: 0.1443 - val_loss: nan - val_accuracy: 0.1624\n",
      "Epoch 19/100\n",
      "29/29 - 3s - loss: nan - accuracy: 0.1443 - val_loss: nan - val_accuracy: 0.1624\n",
      "Epoch 20/100\n",
      "29/29 - 1s - loss: nan - accuracy: 0.1443 - val_loss: nan - val_accuracy: 0.1624\n",
      "Epoch 21/100\n",
      "29/29 - 3s - loss: nan - accuracy: 0.1443 - val_loss: nan - val_accuracy: 0.1624\n",
      "Epoch 22/100\n",
      "29/29 - 3s - loss: nan - accuracy: 0.1443 - val_loss: nan - val_accuracy: 0.1624\n",
      "Epoch 23/100\n",
      "29/29 - 3s - loss: nan - accuracy: 0.1443 - val_loss: nan - val_accuracy: 0.1624\n",
      "Epoch 24/100\n",
      "29/29 - 3s - loss: nan - accuracy: 0.1443 - val_loss: nan - val_accuracy: 0.1624\n",
      "Epoch 25/100\n",
      "29/29 - 3s - loss: nan - accuracy: 0.1443 - val_loss: nan - val_accuracy: 0.1624\n",
      "Epoch 26/100\n",
      "29/29 - 2s - loss: nan - accuracy: 0.1443 - val_loss: nan - val_accuracy: 0.1624\n",
      "Epoch 27/100\n",
      "29/29 - 1s - loss: nan - accuracy: 0.1443 - val_loss: nan - val_accuracy: 0.1624\n",
      "Epoch 28/100\n",
      "29/29 - 2s - loss: nan - accuracy: 0.1443 - val_loss: nan - val_accuracy: 0.1624\n",
      "Epoch 29/100\n",
      "29/29 - 3s - loss: nan - accuracy: 0.1443 - val_loss: nan - val_accuracy: 0.1624\n",
      "Epoch 30/100\n",
      "29/29 - 3s - loss: nan - accuracy: 0.1443 - val_loss: nan - val_accuracy: 0.1624\n",
      "Epoch 31/100\n",
      "29/29 - 1s - loss: nan - accuracy: 0.1443 - val_loss: nan - val_accuracy: 0.1624\n",
      "Epoch 32/100\n",
      "29/29 - 1s - loss: nan - accuracy: 0.1443 - val_loss: nan - val_accuracy: 0.1624\n",
      "Epoch 33/100\n",
      "29/29 - 1s - loss: nan - accuracy: 0.1443 - val_loss: nan - val_accuracy: 0.1624\n",
      "Epoch 34/100\n",
      "29/29 - 2s - loss: nan - accuracy: 0.1443 - val_loss: nan - val_accuracy: 0.1624\n",
      "Epoch 35/100\n",
      "29/29 - 1s - loss: nan - accuracy: 0.1443 - val_loss: nan - val_accuracy: 0.1624\n",
      "Epoch 36/100\n",
      "29/29 - 1s - loss: nan - accuracy: 0.1443 - val_loss: nan - val_accuracy: 0.1624\n",
      "Epoch 37/100\n",
      "29/29 - 1s - loss: nan - accuracy: 0.1443 - val_loss: nan - val_accuracy: 0.1624\n",
      "Epoch 38/100\n",
      "29/29 - 3s - loss: nan - accuracy: 0.1443 - val_loss: nan - val_accuracy: 0.1624\n",
      "Epoch 39/100\n",
      "29/29 - 3s - loss: nan - accuracy: 0.1443 - val_loss: nan - val_accuracy: 0.1624\n",
      "Epoch 40/100\n",
      "29/29 - 3s - loss: nan - accuracy: 0.1443 - val_loss: nan - val_accuracy: 0.1624\n",
      "Epoch 41/100\n",
      "29/29 - 2s - loss: nan - accuracy: 0.1443 - val_loss: nan - val_accuracy: 0.1624\n",
      "Epoch 42/100\n",
      "29/29 - 3s - loss: nan - accuracy: 0.1443 - val_loss: nan - val_accuracy: 0.1624\n",
      "Epoch 43/100\n",
      "29/29 - 1s - loss: nan - accuracy: 0.1443 - val_loss: nan - val_accuracy: 0.1624\n",
      "Epoch 44/100\n",
      "29/29 - 1s - loss: nan - accuracy: 0.1443 - val_loss: nan - val_accuracy: 0.1624\n",
      "Epoch 45/100\n",
      "29/29 - 1s - loss: nan - accuracy: 0.1443 - val_loss: nan - val_accuracy: 0.1624\n",
      "Epoch 46/100\n",
      "29/29 - 3s - loss: nan - accuracy: 0.1443 - val_loss: nan - val_accuracy: 0.1624\n",
      "Epoch 47/100\n",
      "29/29 - 3s - loss: nan - accuracy: 0.1443 - val_loss: nan - val_accuracy: 0.1624\n",
      "Epoch 48/100\n",
      "29/29 - 1s - loss: nan - accuracy: 0.1443 - val_loss: nan - val_accuracy: 0.1624\n",
      "Epoch 49/100\n",
      "29/29 - 1s - loss: nan - accuracy: 0.1443 - val_loss: nan - val_accuracy: 0.1624\n",
      "Epoch 50/100\n",
      "29/29 - 3s - loss: nan - accuracy: 0.1443 - val_loss: nan - val_accuracy: 0.1624\n",
      "Epoch 51/100\n",
      "29/29 - 3s - loss: nan - accuracy: 0.1443 - val_loss: nan - val_accuracy: 0.1624\n",
      "Epoch 52/100\n",
      "29/29 - 3s - loss: nan - accuracy: 0.1443 - val_loss: nan - val_accuracy: 0.1624\n",
      "Epoch 53/100\n",
      "29/29 - 1s - loss: nan - accuracy: 0.1443 - val_loss: nan - val_accuracy: 0.1624\n",
      "Epoch 54/100\n",
      "29/29 - 3s - loss: nan - accuracy: 0.1443 - val_loss: nan - val_accuracy: 0.1624\n",
      "Epoch 55/100\n",
      "29/29 - 1s - loss: nan - accuracy: 0.1443 - val_loss: nan - val_accuracy: 0.1624\n",
      "Epoch 56/100\n",
      "29/29 - 2s - loss: nan - accuracy: 0.1443 - val_loss: nan - val_accuracy: 0.1624\n",
      "Epoch 57/100\n",
      "29/29 - 3s - loss: nan - accuracy: 0.1443 - val_loss: nan - val_accuracy: 0.1624\n",
      "Epoch 58/100\n",
      "29/29 - 3s - loss: nan - accuracy: 0.1443 - val_loss: nan - val_accuracy: 0.1624\n",
      "Epoch 59/100\n",
      "29/29 - 1s - loss: nan - accuracy: 0.1443 - val_loss: nan - val_accuracy: 0.1624\n",
      "Epoch 60/100\n",
      "29/29 - 1s - loss: nan - accuracy: 0.1443 - val_loss: nan - val_accuracy: 0.1624\n",
      "Epoch 61/100\n",
      "29/29 - 3s - loss: nan - accuracy: 0.1443 - val_loss: nan - val_accuracy: 0.1624\n",
      "Epoch 62/100\n",
      "29/29 - 3s - loss: nan - accuracy: 0.1443 - val_loss: nan - val_accuracy: 0.1624\n",
      "Epoch 63/100\n",
      "29/29 - 3s - loss: nan - accuracy: 0.1443 - val_loss: nan - val_accuracy: 0.1624\n",
      "Epoch 64/100\n",
      "29/29 - 1s - loss: nan - accuracy: 0.1443 - val_loss: nan - val_accuracy: 0.1624\n",
      "Epoch 65/100\n",
      "29/29 - 3s - loss: nan - accuracy: 0.1443 - val_loss: nan - val_accuracy: 0.1624\n",
      "Epoch 66/100\n",
      "29/29 - 3s - loss: nan - accuracy: 0.1443 - val_loss: nan - val_accuracy: 0.1624\n",
      "Epoch 67/100\n",
      "29/29 - 1s - loss: nan - accuracy: 0.1443 - val_loss: nan - val_accuracy: 0.1624\n",
      "Epoch 68/100\n",
      "29/29 - 3s - loss: nan - accuracy: 0.1443 - val_loss: nan - val_accuracy: 0.1624\n",
      "Epoch 69/100\n",
      "29/29 - 1s - loss: nan - accuracy: 0.1443 - val_loss: nan - val_accuracy: 0.1624\n",
      "Epoch 70/100\n",
      "29/29 - 1s - loss: nan - accuracy: 0.1443 - val_loss: nan - val_accuracy: 0.1624\n",
      "Epoch 71/100\n",
      "29/29 - 1s - loss: nan - accuracy: 0.1443 - val_loss: nan - val_accuracy: 0.1624\n",
      "Epoch 72/100\n",
      "29/29 - 1s - loss: nan - accuracy: 0.1443 - val_loss: nan - val_accuracy: 0.1624\n",
      "Epoch 73/100\n",
      "29/29 - 2s - loss: nan - accuracy: 0.1443 - val_loss: nan - val_accuracy: 0.1624\n",
      "Epoch 74/100\n",
      "29/29 - 2s - loss: nan - accuracy: 0.1443 - val_loss: nan - val_accuracy: 0.1624\n",
      "Epoch 75/100\n",
      "29/29 - 3s - loss: nan - accuracy: 0.1443 - val_loss: nan - val_accuracy: 0.1624\n",
      "Epoch 76/100\n",
      "29/29 - 1s - loss: nan - accuracy: 0.1443 - val_loss: nan - val_accuracy: 0.1624\n",
      "Epoch 77/100\n",
      "29/29 - 1s - loss: nan - accuracy: 0.1443 - val_loss: nan - val_accuracy: 0.1624\n",
      "Epoch 78/100\n",
      "29/29 - 1s - loss: nan - accuracy: 0.1443 - val_loss: nan - val_accuracy: 0.1624\n",
      "Epoch 79/100\n",
      "29/29 - 2s - loss: nan - accuracy: 0.1443 - val_loss: nan - val_accuracy: 0.1624\n",
      "Epoch 80/100\n",
      "29/29 - 1s - loss: nan - accuracy: 0.1443 - val_loss: nan - val_accuracy: 0.1624\n",
      "Epoch 81/100\n",
      "29/29 - 1s - loss: nan - accuracy: 0.1443 - val_loss: nan - val_accuracy: 0.1624\n",
      "Epoch 82/100\n",
      "29/29 - 1s - loss: nan - accuracy: 0.1443 - val_loss: nan - val_accuracy: 0.1624\n",
      "Epoch 83/100\n",
      "29/29 - 1s - loss: nan - accuracy: 0.1443 - val_loss: nan - val_accuracy: 0.1624\n",
      "Epoch 84/100\n",
      "29/29 - 1s - loss: nan - accuracy: 0.1443 - val_loss: nan - val_accuracy: 0.1624\n",
      "Epoch 85/100\n",
      "29/29 - 3s - loss: nan - accuracy: 0.1443 - val_loss: nan - val_accuracy: 0.1624\n",
      "Epoch 86/100\n",
      "29/29 - 2s - loss: nan - accuracy: 0.1443 - val_loss: nan - val_accuracy: 0.1624\n",
      "Epoch 87/100\n",
      "29/29 - 1s - loss: nan - accuracy: 0.1443 - val_loss: nan - val_accuracy: 0.1624\n",
      "Epoch 88/100\n",
      "29/29 - 1s - loss: nan - accuracy: 0.1443 - val_loss: nan - val_accuracy: 0.1624\n",
      "Epoch 89/100\n",
      "29/29 - 1s - loss: nan - accuracy: 0.1443 - val_loss: nan - val_accuracy: 0.1624\n",
      "Epoch 90/100\n",
      "29/29 - 1s - loss: nan - accuracy: 0.1443 - val_loss: nan - val_accuracy: 0.1624\n",
      "Epoch 91/100\n",
      "29/29 - 3s - loss: nan - accuracy: 0.1443 - val_loss: nan - val_accuracy: 0.1624\n",
      "Epoch 92/100\n",
      "29/29 - 3s - loss: nan - accuracy: 0.1443 - val_loss: nan - val_accuracy: 0.1624\n",
      "Epoch 93/100\n",
      "29/29 - 3s - loss: nan - accuracy: 0.1443 - val_loss: nan - val_accuracy: 0.1624\n",
      "Epoch 94/100\n",
      "29/29 - 3s - loss: nan - accuracy: 0.1443 - val_loss: nan - val_accuracy: 0.1624\n",
      "Epoch 95/100\n",
      "29/29 - 3s - loss: nan - accuracy: 0.1443 - val_loss: nan - val_accuracy: 0.1624\n",
      "Epoch 96/100\n",
      "29/29 - 1s - loss: nan - accuracy: 0.1443 - val_loss: nan - val_accuracy: 0.1624\n",
      "Epoch 97/100\n",
      "29/29 - 2s - loss: nan - accuracy: 0.1443 - val_loss: nan - val_accuracy: 0.1624\n",
      "Epoch 98/100\n",
      "29/29 - 1s - loss: nan - accuracy: 0.1443 - val_loss: nan - val_accuracy: 0.1624\n",
      "Epoch 99/100\n",
      "29/29 - 1s - loss: nan - accuracy: 0.1443 - val_loss: nan - val_accuracy: 0.1624\n",
      "Epoch 100/100\n",
      "29/29 - 1s - loss: nan - accuracy: 0.1443 - val_loss: nan - val_accuracy: 0.1624\n"
     ]
    }
   ],
   "source": [
    "num_epochs = 100\n",
    "history = model.fit(training_padded, training_labels, epochs=num_epochs, validation_data=(testing_padded, testing_labels), verbose=2)"
   ]
  },
  {
   "cell_type": "code",
   "execution_count": null,
   "id": "e9606685",
   "metadata": {
    "papermill": {
     "duration": 0.012213,
     "end_time": "2022-10-30T08:46:15.224111",
     "exception": false,
     "start_time": "2022-10-30T08:46:15.211898",
     "status": "completed"
    },
    "tags": []
   },
   "outputs": [],
   "source": []
  }
 ],
 "metadata": {
  "kernelspec": {
   "display_name": "Python 3",
   "language": "python",
   "name": "python3"
  },
  "language_info": {
   "codemirror_mode": {
    "name": "ipython",
    "version": 3
   },
   "file_extension": ".py",
   "mimetype": "text/x-python",
   "name": "python",
   "nbconvert_exporter": "python",
   "pygments_lexer": "ipython3",
   "version": "3.7.12"
  },
  "papermill": {
   "default_parameters": {},
   "duration": 215.35722,
   "end_time": "2022-10-30T08:46:17.984711",
   "environment_variables": {},
   "exception": null,
   "input_path": "__notebook__.ipynb",
   "output_path": "__notebook__.ipynb",
   "parameters": {},
   "start_time": "2022-10-30T08:42:42.627491",
   "version": "2.3.4"
  }
 },
 "nbformat": 4,
 "nbformat_minor": 5
}
